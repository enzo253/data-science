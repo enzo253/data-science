{
 "cells": [
  {
   "cell_type": "code",
   "execution_count": 14,
   "metadata": {},
   "outputs": [
    {
     "name": "stdout",
     "output_type": "stream",
     "text": [
      "Name: Enzo Wurtele\n",
      "Age: 22\n",
      "Age difference with Julia: 10\n"
     ]
    }
   ],
   "source": [
    "# Define name and age, and display\n",
    "my_name = \"Enzo Wurtele\"\n",
    "print(\"Name:\", my_name)\n",
    "\n",
    "my_age = 22\n",
    "print(\"Age:\", my_age)\n",
    "\n",
    "# Define Julia's age and calculate the age difference\n",
    "Julia_age = 32\n",
    "age_diff = Julia_age - my_age\n",
    "print(\"Age difference with Julia:\", age_diff)\n"
   ]
  },
  {
   "cell_type": "code",
   "execution_count": 15,
   "metadata": {},
   "outputs": [
    {
     "name": "stdout",
     "output_type": "stream",
     "text": [
      "You are older than 21\n",
      "You are younger than Julia\n"
     ]
    }
   ],
   "source": [
    "# Check if age is above or below 21\n",
    "if my_age > 21:\n",
    "    print(\"You are older than 21\")\n",
    "elif my_age == 21:\n",
    "    print(\"You are 21\")\n",
    "else:\n",
    "    print(\"You are younger than 21\")\n",
    "\n",
    "# Compare Enzo's age to Julia's age\n",
    "if my_age > Julia_age:\n",
    "    print(\"You are older than Julia\")\n",
    "elif my_age == Julia_age:\n",
    "    print(\"You are the same age as Julia\")\n",
    "else:\n",
    "    print(\"You are younger than Julia\")\n"
   ]
  },
  {
   "cell_type": "code",
   "execution_count": 16,
   "metadata": {},
   "outputs": [
    {
     "name": "stdout",
     "output_type": "stream",
     "text": [
      "First friend: Able\n",
      "Last friend: Julia\n",
      "Friend List:\n",
      "Able\n",
      "Broseph\n",
      "Dalores\n",
      "Fredrick\n",
      "George\n",
      "Julia\n",
      "Friend Ages:\n",
      "22\n",
      "32\n",
      "43\n",
      "54\n",
      "48\n",
      "21\n",
      "Even Ages:\n",
      "22\n",
      "32\n",
      "54\n",
      "48\n"
     ]
    }
   ],
   "source": [
    "# Define friend list and print first and last names\n",
    "friend_list = [\"Able\", \"Broseph\", \"Dalores\", \"Fredrick\", \"George\", \"Julia\"]\n",
    "print(\"First friend:\", friend_list[0])\n",
    "print(\"Last friend:\", friend_list[-1])\n",
    "\n",
    "# Print each friend in the list\n",
    "print(\"Friend List:\")\n",
    "for friend in friend_list:\n",
    "    print(friend)\n",
    "\n",
    "# Define ages and print all ages\n",
    "friend_age = [22, 32, 43, 54, 48, 21]\n",
    "print(\"Friend Ages:\")\n",
    "for age in friend_age:\n",
    "    print(age)\n",
    "\n",
    "# Print only even ages\n",
    "print(\"Even Ages:\")\n",
    "for age in friend_age:\n",
    "    if age % 2 == 0:\n",
    "        print(age)\n"
   ]
  },
  {
   "cell_type": "code",
   "execution_count": 17,
   "metadata": {},
   "outputs": [
    {
     "name": "stdout",
     "output_type": "stream",
     "text": [
      "Age: 22\n",
      "Age: 32\n",
      "Age: 43\n",
      "Age: 54\n",
      "Age: 48\n",
      "Age: 21\n"
     ]
    }
   ],
   "source": [
    "# Using a while loop to print each friend's age\n",
    "i = 0\n",
    "while i < len(friend_age):\n",
    "    print(\"Age:\", friend_age[i])\n",
    "    i += 1\n"
   ]
  },
  {
   "cell_type": "code",
   "execution_count": 18,
   "metadata": {},
   "outputs": [
    {
     "name": "stdout",
     "output_type": "stream",
     "text": [
      "Minimum: 12\n",
      "Maximum: 87\n"
     ]
    }
   ],
   "source": [
    "# Find min and max in a list of numbers\n",
    "list_00 = [12, 34, 67, 87, 32, 54, 60]\n",
    "min_number = min(list_00)\n",
    "max_number = max(list_00)\n",
    "print(\"Minimum:\", min_number)\n",
    "print(\"Maximum:\", max_number)\n"
   ]
  },
  {
   "cell_type": "code",
   "execution_count": 19,
   "metadata": {},
   "outputs": [
    {
     "name": "stdout",
     "output_type": "stream",
     "text": [
      "Age: 25\n",
      "Age: 29\n",
      "Age: 19\n",
      "Age: 14\n",
      "Age: 17\n",
      "Age: 18\n",
      "Age: 30\n",
      "Age: 28\n",
      "Age: 45\n",
      "Age: 16\n"
     ]
    }
   ],
   "source": [
    "# Calculate age from birth years\n",
    "birth_time = [1999, 1995, 2005, 2010, 2007, 2006, 1994, 1996, 1979, 2008]\n",
    "for year in birth_time:\n",
    "    age = 2024 - year\n",
    "    print(\"Age:\", age)\n"
   ]
  },
  {
   "cell_type": "code",
   "execution_count": 20,
   "metadata": {},
   "outputs": [
    {
     "name": "stdout",
     "output_type": "stream",
     "text": [
      "Bob is 25 years old\n",
      "Jack is 29 years old\n",
      "Lisa is 19 years old\n",
      "Maria is 14 years old\n",
      "Ben is 17 years old\n",
      "Emma is 18 years old\n",
      "Oscar is 30 years old\n",
      "Amy is 28 years old\n",
      "Paul is 45 years old\n",
      "Etta is 16 years old\n"
     ]
    }
   ],
   "source": [
    "# Customer list with ages\n",
    "customer_list = [\n",
    "    {\"name\": \"Bob\", \"age\": 1999},\n",
    "    {\"name\": \"Jack\", \"age\": 1995},\n",
    "    {\"name\": \"Lisa\", \"age\": 2005},\n",
    "    {\"name\": \"Maria\", \"age\": 2010},\n",
    "    {\"name\": \"Ben\", \"age\": 2007},\n",
    "    {\"name\": \"Emma\", \"age\": 2006},\n",
    "    {\"name\": \"Oscar\", \"age\": 1994},\n",
    "    {\"name\": \"Amy\", \"age\": 1996},\n",
    "    {\"name\": \"Paul\", \"age\": 1979},\n",
    "    {\"name\": \"Etta\", \"age\": 2008}\n",
    "]\n",
    "\n",
    "# Calculate and print each customer's age\n",
    "for customer in customer_list:\n",
    "    customer_age = 2024 - customer[\"age\"]\n",
    "    print(f\"{customer['name']} is {customer_age} years old\")\n"
   ]
  },
  {
   "cell_type": "code",
   "execution_count": 21,
   "metadata": {},
   "outputs": [
    {
     "name": "stdout",
     "output_type": "stream",
     "text": [
      "Sorted Ages: [40, 25, 24, 23, 20, 14, 13, 12, 11, 9]\n",
      "Ages after removing min and max: [25, 24, 23, 20, 14, 13, 12, 11]\n"
     ]
    }
   ],
   "source": [
    "# Sort ages in descending order\n",
    "ages = [20, 24, 14, 9, 12, 13, 25, 23, 40, 11]\n",
    "ages.sort(reverse=True)\n",
    "print(\"Sorted Ages:\", ages)\n",
    "\n",
    "# Remove minimum and maximum ages\n",
    "min_age = ages[-1]\n",
    "max_age = ages[0]\n",
    "ages.remove(min_age)\n",
    "ages.remove(max_age)\n",
    "print(\"Ages after removing min and max:\", ages)\n"
   ]
  },
  {
   "cell_type": "code",
   "execution_count": 22,
   "metadata": {},
   "outputs": [
    {
     "name": "stdout",
     "output_type": "stream",
     "text": [
      "Common Ages between Berlin and Munich: [15, 13, 16, 18, 19, 10]\n"
     ]
    }
   ],
   "source": [
    "# Find common ages between Berlin and Munich lists\n",
    "berlin = [15, 13, 16, 18, 19, 10, 12]\n",
    "munich = [7, 13, 15, 20, 19, 18, 10, 16]\n",
    "\n",
    "common_ages = [age for age in berlin if age in munich]\n",
    "print(\"Common Ages between Berlin and Munich:\", common_ages)\n"
   ]
  },
  {
   "cell_type": "code",
   "execution_count": 23,
   "metadata": {},
   "outputs": [
    {
     "name": "stdout",
     "output_type": "stream",
     "text": [
      "Ages without duplicates: [10, 13, 15, 16, 18, 19]\n"
     ]
    }
   ],
   "source": [
    "# Remove duplicates from a list\n",
    "duplicates = [15, 13, 16, 18, 19, 15, 10]\n",
    "unique_ages = list(set(duplicates))\n",
    "print(\"Ages without duplicates:\", unique_ages)\n"
   ]
  },
  {
   "cell_type": "code",
   "execution_count": 24,
   "metadata": {},
   "outputs": [
    {
     "name": "stdout",
     "output_type": "stream",
     "text": [
      "You are not welcomed.\n"
     ]
    }
   ],
   "source": [
    "# Greet specific names\n",
    "name = input(\"Please enter your name: \")\n",
    "if name.lower() == \"jost\":\n",
    "    print(\"Welcome Jost, have a nice day!\")\n",
    "elif name.lower() == \"evelyn\":\n",
    "    print(\"Welcome Evelyn, have a nice day!\")\n",
    "else:\n",
    "    print(\"You are not welcomed.\")\n"
   ]
  },
  {
   "cell_type": "code",
   "execution_count": 25,
   "metadata": {},
   "outputs": [
    {
     "name": "stdout",
     "output_type": "stream",
     "text": [
      "Length of list: 7\n"
     ]
    }
   ],
   "source": [
    "# Count the length of a list\n",
    "get_length = [1, 2, 3, 4, 5, 6, 7]\n",
    "length = len(get_length)\n",
    "print(\"Length of list:\", length)\n"
   ]
  },
  {
   "cell_type": "code",
   "execution_count": 26,
   "metadata": {},
   "outputs": [
    {
     "name": "stdout",
     "output_type": "stream",
     "text": [
      "You have entered a valid age.\n"
     ]
    }
   ],
   "source": [
    "# Check for valid age input\n",
    "while True:\n",
    "    try:\n",
    "        input_age = int(input(\"What's your age: \"))\n",
    "        \n",
    "        if 18 <= input_age <= 60:\n",
    "            print(\"You have entered a valid age.\")\n",
    "            break\n",
    "        else:\n",
    "            print(\"You haven't entered a valid age.\")\n",
    "    except ValueError:\n",
    "        print(\"Invalid input. Try again.\")\n"
   ]
  },
  {
   "cell_type": "markdown",
   "metadata": {},
   "source": [
    "# Check for valid age input\n",
    "while True:\n",
    "    try:\n",
    "        input_age = int(input(\"What's your age: \"))\n",
    "        \n",
    "        if 18 <= input_age <= 60:\n",
    "            print(\"You have entered a valid age.\")\n",
    "            break\n",
    "        else:\n",
    "            print(\"You haven't entered a valid age.\")\n",
    "    except ValueError:\n",
    "        print(\"Invalid input. Try again.\")\n"
   ]
  },
  {
   "cell_type": "code",
   "execution_count": 27,
   "metadata": {},
   "outputs": [
    {
     "name": "stdout",
     "output_type": "stream",
     "text": [
      "List without the specified age: [18, 24, 38, 57, 40, 37, 55, 48, 45]\n"
     ]
    }
   ],
   "source": [
    "# Remove entered age from list\n",
    "list_age = [18, 22, 24, 38, 57, 40, 37, 55, 48, 45]\n",
    "list_without_age = [age for age in list_age if age != input_age]\n",
    "print(\"List without the specified age:\", list_without_age)\n"
   ]
  }
 ],
 "metadata": {
  "kernelspec": {
   "display_name": "base",
   "language": "python",
   "name": "python3"
  },
  "language_info": {
   "codemirror_mode": {
    "name": "ipython",
    "version": 3
   },
   "file_extension": ".py",
   "mimetype": "text/x-python",
   "name": "python",
   "nbconvert_exporter": "python",
   "pygments_lexer": "ipython3",
   "version": "3.12.4"
  },
  "orig_nbformat": 4
 },
 "nbformat": 4,
 "nbformat_minor": 2
}
