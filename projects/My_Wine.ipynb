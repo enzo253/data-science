{
 "cells": [
  {
   "cell_type": "code",
   "execution_count": 7,
   "metadata": {},
   "outputs": [],
   "source": [
    "import pandas as pd\n",
    "import numpy as np"
   ]
  },
  {
   "cell_type": "code",
   "execution_count": 9,
   "metadata": {},
   "outputs": [],
   "source": [
    "red_wine = pd.read_csv('/Users/enzowurtele/Desktop/data-science/projects/winequality-red.csv', sep=';')\n",
    "white_wine = pd.read_csv('/Users/enzowurtele/Desktop/data-science/projects/winequality-white.csv',sep=';')\n",
    "\n",
    "both_wines = pd.concat([red_wine, white_wine], ignore_index=True)\n"
   ]
  },
  {
   "cell_type": "code",
   "execution_count": 26,
   "metadata": {},
   "outputs": [
    {
     "name": "stdout",
     "output_type": "stream",
     "text": [
      "fixed acidity             7.323322\n",
      "volatile acidity          0.395886\n",
      "citric acid               0.304473\n",
      "residual sugar            5.652676\n",
      "chlorides                 0.064243\n",
      "free sulfur dioxide      29.356415\n",
      "total sulfur dioxide    119.241929\n",
      "density                   0.995756\n",
      "pH                        3.213972\n",
      "sulphates                 0.524499\n",
      "alcohol                   9.869193\n",
      "quality                   4.908241\n",
      "dtype: float64\n"
     ]
    }
   ],
   "source": [
    "average = both_wines[(both_wines['quality'] >= 4) & (both_wines['quality'] < 6)]\n",
    "means = average.mean()\n",
    "print(means)"
   ]
  },
  {
   "cell_type": "code",
   "execution_count": null,
   "metadata": {},
   "outputs": [],
   "source": [
    "data_ok_quality = np.array([\n",
    "    7.323322,     # fixed acidity\n",
    "    0.395886,     # volatile acidity\n",
    "    0.304473,     # citric acid\n",
    "    5.652676,     # residual sugar\n",
    "    0.064243,     # chlorides\n",
    "    29.356415,    # free sulfur dioxide\n",
    "    119.241929,   # total sulfur dioxide\n",
    "    0.995756,     # density\n",
    "    3.213972,     # pH\n",
    "    0.524499,     # sulphates\n",
    "    9.869193,     # alcohol\n",
    "    4.908241      # quality\n",
    "])\n"
   ]
  },
  {
   "cell_type": "code",
   "execution_count": 33,
   "metadata": {},
   "outputs": [
    {
     "name": "stdout",
     "output_type": "stream",
     "text": [
      "fixed acidity             7.085709\n",
      "volatile acidity          0.289170\n",
      "citric acid               0.334628\n",
      "residual sugar            4.827721\n",
      "chlorides                 0.044576\n",
      "free sulfur dioxide      31.055208\n",
      "total sulfur dioxide    109.891151\n",
      "density                   0.993027\n",
      "pH                        3.227651\n",
      "sulphates                 0.541488\n",
      "alcohol                  11.433359\n",
      "quality                   7.158966\n",
      "dtype: float64\n"
     ]
    }
   ],
   "source": [
    "avarage_2 = both_wines[(both_wines['quality'] >= 7 )]\n",
    "\n",
    "mean = avarage_2.mean()\n",
    "\n",
    "print(mean)"
   ]
  },
  {
   "cell_type": "code",
   "execution_count": null,
   "metadata": {},
   "outputs": [],
   "source": [
    "data_good_quality = np.array([\n",
    "    7.085709,     # fixed acidity\n",
    "    0.289170,     # volatile acidity\n",
    "    0.334628,     # citric acid\n",
    "    4.827721,     # residual sugar\n",
    "    0.044576,     # chlorides\n",
    "    31.055208,    # free sulfur dioxide\n",
    "    109.891151,   # total sulfur dioxide\n",
    "    0.993027,     # density\n",
    "    3.227651,     # pH\n",
    "    0.541488,     # sulphates\n",
    "    11.433359,    # alcohol\n",
    "    7.158966      # quality\n",
    "])\n"
   ]
  },
  {
   "cell_type": "code",
   "execution_count": null,
   "metadata": {},
   "outputs": [],
   "source": [
    "intefered_with_data = np.array([   \n",
    "   \n",
    "    7.323322,     # fixed acidity\n",
    "    0.289170,     # volatile acidity -\n",
    "    0.304473,     # citric acid\n",
    "    5.652676,     # residual sugar\n",
    "    0.044576,     # chlorides\n",
    "    29.356415,    # free sulfur dioxide\n",
    "    109.891151,   # total sulfur dioxide -\n",
    "    0.993027,     # density -\n",
    "    3.213972,     # pH\n",
    "    0.524499,     # sulphates\n",
    "    11.433359,     # alcohol -\n",
    "    4.908241      # quality\n",
    "\n",
    "])"
   ]
  },
  {
   "cell_type": "code",
   "execution_count": null,
   "metadata": {},
   "outputs": [],
   "source": []
  }
 ],
 "metadata": {
  "kernelspec": {
   "display_name": "base",
   "language": "python",
   "name": "python3"
  },
  "language_info": {
   "codemirror_mode": {
    "name": "ipython",
    "version": 3
   },
   "file_extension": ".py",
   "mimetype": "text/x-python",
   "name": "python",
   "nbconvert_exporter": "python",
   "pygments_lexer": "ipython3",
   "version": "3.12.2"
  },
  "orig_nbformat": 4
 },
 "nbformat": 4,
 "nbformat_minor": 2
}
