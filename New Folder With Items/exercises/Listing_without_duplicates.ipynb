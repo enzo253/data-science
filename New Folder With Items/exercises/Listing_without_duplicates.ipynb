{
 "cells": [
  {
   "cell_type": "code",
   "execution_count": 1,
   "metadata": {},
   "outputs": [
    {
     "name": "stdout",
     "output_type": "stream",
     "text": [
      "[22, 44, 55, 66, 22]\n",
      "[22, 44, 55, 66]\n",
      "--------\n"
     ]
    }
   ],
   "source": [
    "list_input = input(\"input list: \").split(\",\")\n",
    "\n",
    "list_with_duplicates = []\n",
    "\n",
    "for num in list_input:\n",
    "    list_with_duplicates.append(int(num))\n",
    "\n",
    "print(list_with_duplicates)\n",
    "\n",
    "list_without_duplicates = []\n",
    "\n",
    "for num in list_with_duplicates:\n",
    "    if num not in list_without_duplicates:\n",
    "        list_without_duplicates.append(num)\n",
    "\n",
    "print(list_without_duplicates)\n",
    "print(\"--------\")"
   ]
  }
 ],
 "metadata": {
  "kernelspec": {
   "display_name": "base",
   "language": "python",
   "name": "python3"
  },
  "language_info": {
   "codemirror_mode": {
    "name": "ipython",
    "version": 3
   },
   "file_extension": ".py",
   "mimetype": "text/x-python",
   "name": "python",
   "nbconvert_exporter": "python",
   "pygments_lexer": "ipython3",
   "version": "3.12.4"
  },
  "orig_nbformat": 4
 },
 "nbformat": 4,
 "nbformat_minor": 2
}
