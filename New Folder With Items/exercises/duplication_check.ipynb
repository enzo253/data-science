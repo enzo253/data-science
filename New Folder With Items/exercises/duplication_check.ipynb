{
 "cells": [
  {
   "cell_type": "code",
   "execution_count": 1,
   "metadata": {},
   "outputs": [
    {
     "name": "stdout",
     "output_type": "stream",
     "text": [
      "List of Ages: [33, 44, 55, 66, 33]\n"
     ]
    }
   ],
   "source": [
    "# Take input for ages, split by commas, and convert to integers\n",
    "input_list_check = input(\"Input ages here: \").split(\",\")\n",
    "\n",
    "# Initialize an empty list to store ages as integers\n",
    "list_check = [int(num.strip()) for num in input_list_check]\n",
    "\n",
    "# Display the list of ages for verification\n",
    "print(\"List of Ages:\", list_check)\n"
   ]
  },
  {
   "cell_type": "code",
   "execution_count": 2,
   "metadata": {},
   "outputs": [
    {
     "name": "stdout",
     "output_type": "stream",
     "text": [
      "Age to Check: 33\n"
     ]
    }
   ],
   "source": [
    "# Prompt user to input an age to check for duplicates\n",
    "check = int(input(\"Check an age for duplicates: \"))\n",
    "print(\"Age to Check:\", check)\n"
   ]
  },
  {
   "cell_type": "code",
   "execution_count": 3,
   "metadata": {},
   "outputs": [
    {
     "name": "stdout",
     "output_type": "stream",
     "text": [
      "This number is a duplicate and has been found repeating 2 times.\n"
     ]
    }
   ],
   "source": [
    "# Count occurrences of the specified age in the list\n",
    "count = list_check.count(check)\n",
    "\n",
    "# Check if the age appears more than once and print the result\n",
    "if count > 1:\n",
    "    print(f'This number is a duplicate and has been found repeating {count} times.')\n",
    "else:\n",
    "    print(\"This number is not duplicated.\")\n"
   ]
  }
 ],
 "metadata": {
  "kernelspec": {
   "display_name": "base",
   "language": "python",
   "name": "python3"
  },
  "language_info": {
   "codemirror_mode": {
    "name": "ipython",
    "version": 3
   },
   "file_extension": ".py",
   "mimetype": "text/x-python",
   "name": "python",
   "nbconvert_exporter": "python",
   "pygments_lexer": "ipython3",
   "version": "3.12.4"
  },
  "orig_nbformat": 4
 },
 "nbformat": 4,
 "nbformat_minor": 2
}
