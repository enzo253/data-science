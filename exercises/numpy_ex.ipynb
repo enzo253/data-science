{
 "cells": [
  {
   "cell_type": "code",
   "execution_count": 2,
   "metadata": {},
   "outputs": [
    {
     "name": "stdout",
     "output_type": "stream",
     "text": [
      "Array from 1 to 9: [1 2 3 4 5 6 7 8 9]\n",
      "Random 3x3 Array:\n",
      " [[1 6 2]\n",
      " [5 3 2]\n",
      " [8 1 7]]\n"
     ]
    }
   ],
   "source": [
    "import numpy as np\n",
    "\n",
    "# Create a simple array from 1 to 9\n",
    "arr = np.arange(1, 10)\n",
    "print(\"Array from 1 to 9:\", arr)\n",
    "\n",
    "# Create a 3x3 array with random integers between 1 and 9\n",
    "arr = np.random.randint(1, 10, size=(3, 3))\n",
    "print(\"Random 3x3 Array:\\n\", arr)\n"
   ]
  },
  {
   "cell_type": "code",
   "execution_count": 3,
   "metadata": {},
   "outputs": [
    {
     "name": "stdout",
     "output_type": "stream",
     "text": [
      "Sum: 55\n",
      "Mean: 6.111111111111111\n",
      "Standard Deviation: 2.3778816176702997\n",
      "Specific Element at [1,2]: 9\n"
     ]
    }
   ],
   "source": [
    "# Reset array with specific values and reshape it as 3x3 with random integers for demonstration\n",
    "arr = np.random.randint(1, 10, size=(3, 3))\n",
    "\n",
    "# Calculate and display sum, mean, and standard deviation\n",
    "sum_num = np.sum(arr)\n",
    "mean = np.mean(arr)\n",
    "std_dev = np.std(arr)\n",
    "\n",
    "print(\"Sum:\", sum_num)\n",
    "print(\"Mean:\", mean)\n",
    "print(\"Standard Deviation:\", std_dev)\n",
    "\n",
    "# Access and print a specific element\n",
    "element = arr[1, 2]\n",
    "print(\"Specific Element at [1,2]:\", element)\n"
   ]
  },
  {
   "cell_type": "code",
   "execution_count": 4,
   "metadata": {},
   "outputs": [
    {
     "name": "stdout",
     "output_type": "stream",
     "text": [
      "\n",
      "Addition:\n",
      " [11 11 11 11 11 11 11 11 11 11]\n",
      "Multiplication:\n",
      " [10 18 24 28 30 30 28 24 18 10]\n",
      "Division:\n",
      " [10.          4.5         2.66666667  1.75        1.2         0.83333333\n",
      "  0.57142857  0.375       0.22222222  0.1       ]\n",
      "Subtraction:\n",
      " [-9 -7 -5 -3 -1  1  3  5  7  9]\n"
     ]
    }
   ],
   "source": [
    "# Define two arrays\n",
    "arr = np.array([10, 9, 8, 7, 6, 5, 4, 3, 2, 1])\n",
    "arr_1 = np.array([1, 2, 3, 4, 5, 6, 7, 8, 9, 10])\n",
    "\n",
    "# Perform element-wise operations\n",
    "add = arr + arr_1\n",
    "multy = arr * arr_1\n",
    "divide = arr / arr_1\n",
    "sub = arr_1 - arr\n",
    "\n",
    "print(\"\\nAddition:\\n\", add)\n",
    "print(\"Multiplication:\\n\", multy)\n",
    "print(\"Division:\\n\", divide)\n",
    "print(\"Subtraction:\\n\", sub)\n"
   ]
  },
  {
   "cell_type": "code",
   "execution_count": 5,
   "metadata": {},
   "outputs": [
    {
     "name": "stdout",
     "output_type": "stream",
     "text": [
      "Random 4x4 Array:\n",
      " [[5 9 1 4]\n",
      " [1 1 6 3]\n",
      " [7 5 4 6]\n",
      " [3 6 2 6]]\n",
      "Sliced Array (first 2 rows and 3 columns):\n",
      " [[5 9 1]\n",
      " [1 1 6]]\n"
     ]
    }
   ],
   "source": [
    "# Generate a new 4x4 array with random integers between 1 and 9\n",
    "arr = np.random.randint(1, 10, size=(4, 4))\n",
    "print(\"Random 4x4 Array:\\n\", arr)\n",
    "\n",
    "# Slice the array to get the first 2 rows and first 3 columns\n",
    "element = arr[:2, :3]\n",
    "print(\"Sliced Array (first 2 rows and 3 columns):\\n\", element)\n"
   ]
  },
  {
   "cell_type": "code",
   "execution_count": 6,
   "metadata": {},
   "outputs": [
    {
     "name": "stdout",
     "output_type": "stream",
     "text": [
      "Random Array of 20 Elements:\n",
      " [25  8 88 77 73 31 88 42 97 15 93 67  2 93 32 76 79 58 69  4]\n",
      "Count of Elements >= 25: 16\n"
     ]
    }
   ],
   "source": [
    "# Create a 1D array with random integers between 1 and 100\n",
    "arr = np.random.randint(1, 100, size=20)\n",
    "print(\"Random Array of 20 Elements:\\n\", arr)\n",
    "\n",
    "# Count elements greater than or equal to 25\n",
    "count = np.sum(arr >= 25)\n",
    "print(\"Count of Elements >= 25:\", count)\n"
   ]
  },
  {
   "cell_type": "code",
   "execution_count": 7,
   "metadata": {},
   "outputs": [
    {
     "name": "stdout",
     "output_type": "stream",
     "text": [
      "3x4 Array:\n",
      " [[64 59 24 42]\n",
      " [36 10 11 64]\n",
      " [67 96 13 52]]\n",
      "Total Sum of Array: 538\n",
      "Row-Wise Sum: [189 121 228]\n"
     ]
    }
   ],
   "source": [
    "# Create a 3x4 array with random integers between 1 and 100\n",
    "arr = np.random.randint(1, 100, size=(3, 4))\n",
    "\n",
    "# Calculate row and column sums\n",
    "value_1 = np.sum(arr)  # Total sum of the array\n",
    "value_2 = np.sum(arr, axis=1)  # Row-wise sum\n",
    "\n",
    "print(\"3x4 Array:\\n\", arr)\n",
    "print(\"Total Sum of Array:\", value_1)\n",
    "print(\"Row-Wise Sum:\", value_2)\n"
   ]
  },
  {
   "cell_type": "code",
   "execution_count": 8,
   "metadata": {},
   "outputs": [
    {
     "name": "stdout",
     "output_type": "stream",
     "text": [
      "Minimum Value: 10\n",
      "Maximum Value: 96\n"
     ]
    }
   ],
   "source": [
    "# Find minimum and maximum values\n",
    "min_num = np.min(arr)\n",
    "max_num = np.max(arr)\n",
    "\n",
    "print(\"Minimum Value:\", min_num)\n",
    "print(\"Maximum Value:\", max_num)\n"
   ]
  },
  {
   "cell_type": "code",
   "execution_count": 9,
   "metadata": {},
   "outputs": [
    {
     "name": "stdout",
     "output_type": "stream",
     "text": [
      "Reshaped 3x4 Array:\n",
      " [[ 0  1  2  3]\n",
      " [ 4  5  6  7]\n",
      " [ 8  9 10 11]]\n",
      "Flattened Array: [ 0  1  2  3  4  5  6  7  8  9 10 11]\n"
     ]
    }
   ],
   "source": [
    "# Create an array of 12 elements and reshape it into 3x4\n",
    "arr = np.arange(12).reshape(3, 4)\n",
    "print(\"Reshaped 3x4 Array:\\n\", arr)\n",
    "\n",
    "# Flatten the array back to 1D\n",
    "arr = arr.reshape(-1)\n",
    "print(\"Flattened Array:\", arr)\n"
   ]
  },
  {
   "cell_type": "code",
   "execution_count": 10,
   "metadata": {},
   "outputs": [
    {
     "name": "stdout",
     "output_type": "stream",
     "text": [
      "First 5 elements of Dataset:\n",
      " [[-0.57941716  0.42248852]\n",
      " [ 1.61829726  0.68614064]\n",
      " [-0.80930283  0.83391282]\n",
      " [-1.7292749   0.40656526]\n",
      " [-0.06114398  0.77846381]]\n",
      "Correlation Coefficient between x1 and x2: -0.10230631887137907\n"
     ]
    }
   ],
   "source": [
    "# Generate two sets of random values\n",
    "x1 = np.random.normal(loc=0, scale=1, size=100)   # Normal distribution\n",
    "x2 = np.random.uniform(low=0, high=1, size=100)   # Uniform distribution\n",
    "\n",
    "# Calculate correlation coefficient\n",
    "correlation_matrix = np.corrcoef(x1, x2)\n",
    "correlation_coefficient = correlation_matrix[0, 1]\n",
    "\n",
    "# Stack x1 and x2 into a dataset\n",
    "dataset = np.column_stack((x1, x2))\n",
    "elements = dataset[:5]\n",
    "\n",
    "print(\"First 5 elements of Dataset:\\n\", elements)\n",
    "print(\"Correlation Coefficient between x1 and x2:\", correlation_coefficient)\n"
   ]
  },
  {
   "cell_type": "code",
   "execution_count": 11,
   "metadata": {},
   "outputs": [
    {
     "name": "stdout",
     "output_type": "stream",
     "text": [
      "Loaded Array from CSV:\n",
      " [[47.  0.]\n",
      " [37. 41.]\n",
      " [36. 20.]\n",
      " [24. 12.]\n",
      " [44. 14.]\n",
      " [41. 35.]\n",
      " [42. 18.]\n",
      " [13. 37.]\n",
      " [15. 42.]\n",
      " [22. 36.]]\n"
     ]
    }
   ],
   "source": [
    "# Generate a 10x2 array of random integers between 0 and 50\n",
    "arr_02 = np.random.randint(0, 50, size=(10, 2))\n",
    "\n",
    "# Save array to CSV\n",
    "np.savetxt(\"arr_02.csv\", arr_02, delimiter=',', header='x1,x2', comments='')\n",
    "\n",
    "# Load the CSV back into an array\n",
    "loaded_arr = np.loadtxt('arr_02.csv', delimiter=',', skiprows=1)\n",
    "print(\"Loaded Array from CSV:\\n\", loaded_arr)\n"
   ]
  }
 ],
 "metadata": {
  "kernelspec": {
   "display_name": "base",
   "language": "python",
   "name": "python3"
  },
  "language_info": {
   "codemirror_mode": {
    "name": "ipython",
    "version": 3
   },
   "file_extension": ".py",
   "mimetype": "text/x-python",
   "name": "python",
   "nbconvert_exporter": "python",
   "pygments_lexer": "ipython3",
   "version": "3.12.4"
  },
  "orig_nbformat": 4
 },
 "nbformat": 4,
 "nbformat_minor": 2
}
