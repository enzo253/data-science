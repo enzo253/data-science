{
 "cells": [
  {
   "cell_type": "code",
   "execution_count": 1,
   "metadata": {},
   "outputs": [
    {
     "name": "stdout",
     "output_type": "stream",
     "text": [
      "Input List: [22, 33, 44, 66, 88]\n"
     ]
    }
   ],
   "source": [
    "# Take input as a comma-separated sequence of numbers\n",
    "input_list_01 = input(\"Please give a sequence here: \").split(\",\")\n",
    "\n",
    "# Convert the input to a list of integers\n",
    "input_list_02 = [int(num.strip()) for num in input_list_01]\n",
    "\n",
    "print(\"Input List:\", input_list_02)\n"
   ]
  },
  {
   "cell_type": "code",
   "execution_count": 2,
   "metadata": {},
   "outputs": [
    {
     "name": "stdout",
     "output_type": "stream",
     "text": [
      "Even Numbers: [22, 44, 66, 88]\n",
      "Odd Numbers: [33]\n"
     ]
    }
   ],
   "source": [
    "# Initialize separate lists for even and odd numbers\n",
    "list_even = []\n",
    "list_odd = []\n",
    "\n",
    "# Classify each number as either even or odd\n",
    "for num in input_list_02:\n",
    "    if num % 2 == 0:\n",
    "        list_even.append(num)\n",
    "    else:\n",
    "        list_odd.append(num)\n",
    "\n",
    "print(\"Even Numbers:\", list_even)\n",
    "print(\"Odd Numbers:\", list_odd)\n"
   ]
  },
  {
   "cell_type": "code",
   "execution_count": 3,
   "metadata": {},
   "outputs": [
    {
     "name": "stdout",
     "output_type": "stream",
     "text": [
      "Outlier List: [33]\n",
      "The outlier is the odd numbers: [33]\n"
     ]
    }
   ],
   "source": [
    "# Determine which list has fewer elements and thus contains the outlier\n",
    "if len(list_odd) > len(list_even):\n",
    "    print(f\"Outlier List: {list_even}\")\n",
    "    print(f\"The outlier is the even numbers: {list_even}\")\n",
    "elif len(list_even) > len(list_odd):\n",
    "    print(f\"Outlier List: {list_odd}\")\n",
    "    print(f\"The outlier is the odd numbers: {list_odd}\")\n",
    "else:\n",
    "    print(\"The lists of even and odd numbers are equal; no outlier.\")\n"
   ]
  }
 ],
 "metadata": {
  "kernelspec": {
   "display_name": "base",
   "language": "python",
   "name": "python3"
  },
  "language_info": {
   "codemirror_mode": {
    "name": "ipython",
    "version": 3
   },
   "file_extension": ".py",
   "mimetype": "text/x-python",
   "name": "python",
   "nbconvert_exporter": "python",
   "pygments_lexer": "ipython3",
   "version": "3.12.4"
  },
  "orig_nbformat": 4
 },
 "nbformat": 4,
 "nbformat_minor": 2
}
