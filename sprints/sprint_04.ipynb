{
 "cells": [
  {
   "cell_type": "code",
   "execution_count": 1,
   "metadata": {},
   "outputs": [
    {
     "name": "stdout",
     "output_type": "stream",
     "text": [
      "   MovieID                       Title MPAA Rating      Budget        Gross  \\\n",
      "0        1          Look Who's Talking       PG-13   7500000.0  296000000.0   \n",
      "1        2          Driving Miss Daisy          PG   7500000.0  145793296.0   \n",
      "2        3              Turner & Hooch          PG  13000000.0   71079915.0   \n",
      "3        4  Born on the Fourth of July           R  14000000.0  161001698.0   \n",
      "4        5             Field of Dreams          PG  15000000.0   84431625.0   \n",
      "\n",
      "  Release Date    Genre  Runtime  Rating  Rating Count  \\\n",
      "0   1989-10-12  Romance     93.0     5.9       73638.0   \n",
      "1   1989-12-13   Comedy     99.0     7.4       91075.0   \n",
      "2   1989-07-28    Crime    100.0     7.2       91415.0   \n",
      "3   1989-12-20      War    145.0     7.2       91415.0   \n",
      "4   1989-04-21    Drama    107.0     7.5      101702.0   \n",
      "\n",
      "                                             Summary  \n",
      "0  After a single, career-minded woman is left on...  \n",
      "1  An old Jewish woman and her African-American c...  \n",
      "2  Det. Scott Turner (Tom Hanks) is an uptight, b...  \n",
      "3  The biography of Ron Kovic. Paralyzed in the V...  \n",
      "4  An Iowa corn farmer, hearing voices, interpret...  \n"
     ]
    }
   ],
   "source": [
    "import numpy as np\n",
    "import pandas as pd\n",
    "\n",
    "# Load the dataset\n",
    "df = pd.read_csv('/Users/enzowurtele/Desktop/data-science/projects/movies_2.csv')\n",
    "\n",
    "# Display the first few rows\n",
    "print(df.head(5))"
   ]
  },
  {
   "cell_type": "code",
   "execution_count": 3,
   "metadata": {},
   "outputs": [
    {
     "name": "stdout",
     "output_type": "stream",
     "text": [
      "     MovieID                                  Title MPAA Rating       Budget  \\\n",
      "0          1                     Look Who's Talking       PG-13    7500000.0   \n",
      "1          2                     Driving Miss Daisy          PG    7500000.0   \n",
      "2          3                         Turner & Hooch          PG   13000000.0   \n",
      "3          4             Born on the Fourth of July           R   14000000.0   \n",
      "4          5                        Field of Dreams          PG   15000000.0   \n",
      "..       ...                                    ...         ...          ...   \n",
      "611      612                            Toy Story 4           G  200000000.0   \n",
      "612      613  Fast & Furious Presents: Hobbs & Shaw       PG-13  200000000.0   \n",
      "613      614                          The Lion King          PG  250000000.0   \n",
      "614      615                      Avengers: Endgame       PG-13  356000000.0   \n",
      "615        0                                    NaN         NaN          NaN   \n",
      "\n",
      "            Gross Release Date      Genre  Runtime  Rating  Rating Count  \\\n",
      "0    2.960000e+08   1989-10-12    Romance     93.0     5.9       73638.0   \n",
      "1    1.457933e+08   1989-12-13     Comedy     99.0     7.4       91075.0   \n",
      "2    7.107992e+07   1989-07-28      Crime    100.0     7.2       91415.0   \n",
      "3    1.610017e+08   1989-12-20        War    145.0     7.2       91415.0   \n",
      "4    8.443162e+07   1989-04-21      Drama    107.0     7.5      101702.0   \n",
      "..            ...          ...        ...      ...     ...           ...   \n",
      "611  1.062000e+09   2019-06-11  Animation    100.0     6.9           NaN   \n",
      "612  7.594000e+08   2019-07-13   Thriller    136.0     6.9           NaN   \n",
      "613  1.632000e+09   2019-07-09      Drama    118.0     6.9           NaN   \n",
      "614  2.796000e+09   2019-04-22     Action    181.0     6.9           NaN   \n",
      "615           NaN          NaN        NaN      NaN     6.9           NaN   \n",
      "\n",
      "                                               Summary  \n",
      "0    After a single, career-minded woman is left on...  \n",
      "1    An old Jewish woman and her African-American c...  \n",
      "2    Det. Scott Turner (Tom Hanks) is an uptight, b...  \n",
      "3    The biography of Ron Kovic. Paralyzed in the V...  \n",
      "4    An Iowa corn farmer, hearing voices, interpret...  \n",
      "..                                                 ...  \n",
      "611                                                NaN  \n",
      "612                                                NaN  \n",
      "613                                                NaN  \n",
      "614                                                NaN  \n",
      "615                                                NaN  \n",
      "\n",
      "[616 rows x 11 columns]\n"
     ]
    },
    {
     "name": "stderr",
     "output_type": "stream",
     "text": [
      "/var/folders/cs/28k39qrd4fd91ybwdd69fndw0000gn/T/ipykernel_3518/1364356516.py:2: FutureWarning: A value is trying to be set on a copy of a DataFrame or Series through chained assignment using an inplace method.\n",
      "The behavior will change in pandas 3.0. This inplace method will never work because the intermediate object on which we are setting values always behaves as a copy.\n",
      "\n",
      "For example, when doing 'df[col].method(value, inplace=True)', try using 'df.method({col: value}, inplace=True)' or df[col] = df[col].method(value) instead, to perform the operation inplace on the original object.\n",
      "\n",
      "\n",
      "  df[\"Rating\"].fillna(value=df[\"Rating\"].median(), inplace=True)\n",
      "/var/folders/cs/28k39qrd4fd91ybwdd69fndw0000gn/T/ipykernel_3518/1364356516.py:5: FutureWarning: A value is trying to be set on a copy of a DataFrame or Series through chained assignment using an inplace method.\n",
      "The behavior will change in pandas 3.0. This inplace method will never work because the intermediate object on which we are setting values always behaves as a copy.\n",
      "\n",
      "For example, when doing 'df[col].method(value, inplace=True)', try using 'df.method({col: value}, inplace=True)' or df[col] = df[col].method(value) instead, to perform the operation inplace on the original object.\n",
      "\n",
      "\n",
      "  df[\"Rating\"].fillna(value=df[\"Rating Count\"].median(), inplace=True)\n"
     ]
    }
   ],
   "source": [
    "# Fill missing values in \"Rating\" with the median value of \"Rating\"\n",
    "df[\"Rating\"].fillna(value=df[\"Rating\"].median(), inplace=True)\n",
    "\n",
    "# Fill remaining missing values in \"Rating\" with the median of \"Rating Count\" (if applicable)\n",
    "df[\"Rating\"].fillna(value=df[\"Rating Count\"].median(), inplace=True)\n",
    "\n",
    "# Drop duplicate rows if any\n",
    "no_duplicates = df.drop_duplicates()\n",
    "print(no_duplicates)\n"
   ]
  },
  {
   "cell_type": "code",
   "execution_count": 4,
   "metadata": {},
   "outputs": [
    {
     "name": "stdout",
     "output_type": "stream",
     "text": [
      "          MovieID        Budget         Gross     Runtime      Rating  Rating Count\n",
      "count  616.000000  6.150000e+02  6.150000e+02  615.000000  616.000000  5.080000e+02\n",
      "mean   307.500000  9.491710e+07  4.453221e+08  118.642276    6.914286  3.392521e+05\n",
      "std    177.968162  6.748114e+07  3.394075e+08   22.252376    0.807137  3.213388e+05\n",
      "min      0.000000  6.000000e+04  5.300000e+07   79.000000    4.100000  1.491800e+04\n",
      "25%    153.750000  4.000000e+07  2.158939e+08  102.000000    6.500000  1.275922e+05\n",
      "50%    307.500000  8.000000e+07  3.510404e+08  117.000000    6.900000  2.403475e+05\n",
      "75%    461.250000  1.400000e+08  5.851766e+08  132.000000    7.400000  4.257000e+05\n",
      "max    615.000000  4.000000e+08  2.796000e+09  201.000000    9.000000  2.127228e+06\n",
      "Index(['MovieID', 'Title', 'MPAA Rating', 'Budget', 'Gross', 'Release Date',\n",
      "       'Genre', 'Runtime', 'Rating', 'Rating Count', 'Summary'],\n",
      "      dtype='object')\n"
     ]
    },
    {
     "name": "stderr",
     "output_type": "stream",
     "text": [
      "/var/folders/cs/28k39qrd4fd91ybwdd69fndw0000gn/T/ipykernel_3518/810116977.py:2: FutureWarning: A value is trying to be set on a copy of a DataFrame or Series through chained assignment using an inplace method.\n",
      "The behavior will change in pandas 3.0. This inplace method will never work because the intermediate object on which we are setting values always behaves as a copy.\n",
      "\n",
      "For example, when doing 'df[col].method(value, inplace=True)', try using 'df.method({col: value}, inplace=True)' or df[col] = df[col].method(value) instead, to perform the operation inplace on the original object.\n",
      "\n",
      "\n",
      "  df[\"Genre\"].fillna('', inplace=True)\n"
     ]
    }
   ],
   "source": [
    "# Fill missing values in \"Genre\" with an empty string\n",
    "df[\"Genre\"].fillna('', inplace=True)\n",
    "\n",
    "# Display descriptive statistics for numerical columns\n",
    "print(df.describe().to_string(line_width=100))\n",
    "\n",
    "# Show column names for reference\n",
    "print(df.columns)\n"
   ]
  },
  {
   "cell_type": "code",
   "execution_count": 5,
   "metadata": {},
   "outputs": [
    {
     "name": "stderr",
     "output_type": "stream",
     "text": [
      "/var/folders/cs/28k39qrd4fd91ybwdd69fndw0000gn/T/ipykernel_3518/305018176.py:2: FutureWarning: A value is trying to be set on a copy of a DataFrame or Series through chained assignment using an inplace method.\n",
      "The behavior will change in pandas 3.0. This inplace method will never work because the intermediate object on which we are setting values always behaves as a copy.\n",
      "\n",
      "For example, when doing 'df[col].method(value, inplace=True)', try using 'df.method({col: value}, inplace=True)' or df[col] = df[col].method(value) instead, to perform the operation inplace on the original object.\n",
      "\n",
      "\n",
      "  df[\"Budget\"].fillna(value=df[\"Budget\"].median(), inplace=True)\n",
      "/var/folders/cs/28k39qrd4fd91ybwdd69fndw0000gn/T/ipykernel_3518/305018176.py:3: FutureWarning: A value is trying to be set on a copy of a DataFrame or Series through chained assignment using an inplace method.\n",
      "The behavior will change in pandas 3.0. This inplace method will never work because the intermediate object on which we are setting values always behaves as a copy.\n",
      "\n",
      "For example, when doing 'df[col].method(value, inplace=True)', try using 'df.method({col: value}, inplace=True)' or df[col] = df[col].method(value) instead, to perform the operation inplace on the original object.\n",
      "\n",
      "\n",
      "  df[\"Gross\"].fillna(value=df[\"Gross\"].median(), inplace=True)\n"
     ]
    }
   ],
   "source": [
    "# Fill missing values in \"Budget\" and \"Gross\" with their respective median values\n",
    "df[\"Budget\"].fillna(value=df[\"Budget\"].median(), inplace=True)\n",
    "df[\"Gross\"].fillna(value=df[\"Gross\"].median(), inplace=True)\n",
    "\n",
    "# Convert \"Budget\" and \"Gross\" to integers\n",
    "df[\"Budget\"] = df[\"Budget\"].astype(int)\n",
    "df[\"Gross\"] = df[\"Gross\"].astype(int)\n"
   ]
  },
  {
   "cell_type": "code",
   "execution_count": 6,
   "metadata": {},
   "outputs": [],
   "source": [
    "# Convert \"Release Date\" to datetime format, with coercion for invalid formats\n",
    "df[\"Release Date\"] = pd.to_datetime(df[\"Release Date\"], errors='coerce')\n"
   ]
  },
  {
   "cell_type": "code",
   "execution_count": 7,
   "metadata": {},
   "outputs": [
    {
     "name": "stdout",
     "output_type": "stream",
     "text": [
      "     MovieID                                  Title MPAA Rating     Budget  \\\n",
      "11        12  National Lampoon's Christmas Vacation       PG-13   27000000   \n",
      "17        18     Indiana Jones and the Last Crusade       PG-13   48000000   \n",
      "27        28                    Edward Scissorhands       PG-13   20000000   \n",
      "30        31                     Dances with Wolves       PG-13   22000000   \n",
      "40        41                   Fried Green Tomatoes       PG-13   11000000   \n",
      "..       ...                                    ...         ...        ...   \n",
      "494      495    The Hobbit: The Desolation of Smaug       PG-13  250000000   \n",
      "506      507                           Interstellar       PG-13  165000000   \n",
      "507      508    Captain America: The Winter Soldier       PG-13  170000000   \n",
      "508      509         Dawn of the Planet of the Apes       PG-13  170000000   \n",
      "509      510                Guardians of the Galaxy       PG-13  170000000   \n",
      "\n",
      "         Gross Release Date            Genre  Runtime  Rating  Rating Count  \\\n",
      "11    71320000   1989-12-01           Action     97.0     7.6      135690.0   \n",
      "17   474171806   1989-05-24        Adventure    127.0     8.2      647495.0   \n",
      "27    53000000   1990-12-05            Drama    105.0     7.9      421760.0   \n",
      "30   424208848   1990-11-09          Western    181.0     8.0      224754.0   \n",
      "40   119418501   1991-12-27           Comedy    130.0     7.7       62493.0   \n",
      "..         ...          ...              ...      ...     ...           ...   \n",
      "494  958400000   2013-12-11          Fantasy    161.0     7.8      573246.0   \n",
      "506  675120017   2014-11-05  Science Fiction    169.0     8.6     1343549.0   \n",
      "507  714766572   2014-03-20           Action    136.0     7.7      685903.0   \n",
      "508  710644566   2014-06-26  Science Fiction    130.0     7.6      395425.0   \n",
      "509  773328629   2014-07-30           Action    121.0     8.0      978222.0   \n",
      "\n",
      "                                               Summary  \n",
      "11   The Griswold familys plans for a big family Ch...  \n",
      "17   In 1938, after his father Professor Henry Jone...  \n",
      "27   An artificial man, who was incompletely constr...  \n",
      "30   Lieutenant John Dunbar, assigned to a remote w...  \n",
      "40   A housewife who is unhappy with her life befri...  \n",
      "..                                                 ...  \n",
      "494  The dwarves, along with Bilbo Baggins and Gand...  \n",
      "506  A team of explorers travel through a wormhole ...  \n",
      "507  As Steve Rogers struggles to embrace his role ...  \n",
      "508  A growing nation of genetically evolved apes l...  \n",
      "509  A group of intergalactic criminals must pull t...  \n",
      "\n",
      "[104 rows x 11 columns]\n"
     ]
    }
   ],
   "source": [
    "# Filter movies with a rating > 7 and gross > $50,000,000\n",
    "filtered_movies = df[(df[\"Rating\"] > 7) & (df[\"Gross\"] > 50_000_000)]\n",
    "\n",
    "# Further filter for movies rated \"PG-13\" or \"G\"\n",
    "filtered_movies = df[(df[\"Rating\"] > 7) & (df[\"Gross\"] > 50_000_000) & (df[\"MPAA Rating\"].isin([\"PG-13\", 'G']))]\n",
    "\n",
    "print(filtered_movies)\n"
   ]
  },
  {
   "cell_type": "code",
   "execution_count": 8,
   "metadata": {},
   "outputs": [
    {
     "name": "stdout",
     "output_type": "stream",
     "text": [
      "39\n"
     ]
    }
   ],
   "source": [
    "# Filter for animation movies with rating > 7\n",
    "size_filter = df[(df[\"Genre\"].str.contains(\"Animation\") & (df[\"Rating\"] > 7))]\n",
    "\n",
    "# Count of high-rated animation movies\n",
    "animation_count = size_filter.shape[0]\n",
    "print(animation_count)\n"
   ]
  },
  {
   "cell_type": "code",
   "execution_count": 9,
   "metadata": {},
   "outputs": [
    {
     "name": "stdout",
     "output_type": "stream",
     "text": [
      "39\n"
     ]
    }
   ],
   "source": [
    "# Filter for animation movies with rating > 7\n",
    "size_filter = df[(df[\"Genre\"].str.contains(\"Animation\") & (df[\"Rating\"] > 7))]\n",
    "\n",
    "# Count of high-rated animation movies\n",
    "animation_count = size_filter.shape[0]\n",
    "print(animation_count)\n"
   ]
  },
  {
   "cell_type": "code",
   "execution_count": 10,
   "metadata": {},
   "outputs": [
    {
     "name": "stdout",
     "output_type": "stream",
     "text": [
      "                    Title  Rating\n",
      "111          Forrest Gump     8.8\n",
      "185       The Truman Show     8.1\n",
      "80          Groundhog Day     8.0\n",
      "254        Monsters, Inc.     8.0\n",
      "40   Fried Green Tomatoes     7.7\n"
     ]
    }
   ],
   "source": [
    "# Filter and select top 5 highest-rated Comedy movies\n",
    "top_rated_comedys = df[df[\"Genre\"].str.contains(\"Comedy\")].nlargest(5, \"Rating\")\n",
    "print(top_rated_comedys[['Title', 'Rating']])\n"
   ]
  },
  {
   "cell_type": "code",
   "execution_count": 11,
   "metadata": {},
   "outputs": [
    {
     "name": "stdout",
     "output_type": "stream",
     "text": [
      "                                         Title  Rating\n",
      "464  The Twilight Saga: Breaking Dawn - Part 2     5.5\n",
      "442  The Twilight Saga: Breaking Dawn - Part 1     4.9\n",
      "401                The Twilight Saga: New Moon     4.7\n"
     ]
    }
   ],
   "source": [
    "# Filter Romance movies released after 1999\n",
    "top_romance_date = df[(df[\"Genre\"].str.contains(\"Romance\")) & (df[\"Release Date\"] > \"1999-12-31\")]\n",
    "\n",
    "# Select top 3 Romance movies by Gross\n",
    "top_rated_romance = top_romance_date.nlargest(3, \"Gross\")\n",
    "print(top_rated_romance[['Title', 'Rating']])\n"
   ]
  },
  {
   "cell_type": "code",
   "execution_count": 12,
   "metadata": {},
   "outputs": [
    {
     "name": "stdout",
     "output_type": "stream",
     "text": [
      "17\n"
     ]
    }
   ],
   "source": [
    "# Count of unique genres\n",
    "genre_counts = len(df[\"Genre\"].value_counts())\n",
    "print(genre_counts)\n"
   ]
  },
  {
   "cell_type": "code",
   "execution_count": 13,
   "metadata": {},
   "outputs": [
    {
     "name": "stdout",
     "output_type": "stream",
     "text": [
      "Genre\n",
      "History    7.625000\n",
      "War        7.355556\n",
      "Fantasy    7.337037\n",
      "Western    7.333333\n",
      "Drama      7.193939\n",
      "Name: Rating, dtype: float64\n"
     ]
    }
   ],
   "source": [
    "# Calculate average Budget by Genre\n",
    "average_budget_by_genre = df.groupby(\"Genre\")[\"Budget\"].mean()\n",
    "\n",
    "# Calculate average Rating by Genre\n",
    "most_favoured = df.groupby(\"Genre\")[\"Rating\"].mean()\n",
    "\n",
    "# Display top 5 genres by average Rating\n",
    "top = most_favoured.nlargest(5)\n",
    "print(top)\n"
   ]
  },
  {
   "cell_type": "code",
   "execution_count": 14,
   "metadata": {},
   "outputs": [
    {
     "name": "stdout",
     "output_type": "stream",
     "text": [
      "Lowest Budget Genre: ('Horror', 37004285.71428572)\n",
      "Highest Budget Genre: ('Fantasy', 161211111.1111111)\n"
     ]
    }
   ],
   "source": [
    "# Identify genre with highest and lowest average Budget\n",
    "highest_budget = average_budget_by_genre.idxmax(), average_budget_by_genre.max()\n",
    "lowest_budget = average_budget_by_genre.idxmin(), average_budget_by_genre.min()\n",
    "\n",
    "print(f'Lowest Budget Genre: {lowest_budget}\\nHighest Budget Genre: {highest_budget}')\n"
   ]
  },
  {
   "cell_type": "code",
   "execution_count": 15,
   "metadata": {},
   "outputs": [
    {
     "name": "stdout",
     "output_type": "stream",
     "text": [
      "MovieID                  int64\n",
      "Title                   object\n",
      "MPAA Rating             object\n",
      "Budget                   int64\n",
      "Gross                    int64\n",
      "Release Date    datetime64[ns]\n",
      "Genre                   object\n",
      "Runtime                float64\n",
      "Rating                 float64\n",
      "Rating Count           float64\n",
      "Summary                 object\n",
      "dtype: object\n",
      "     MovieID                                  Title MPAA Rating     Budget  \\\n",
      "611      612                            Toy Story 4           G  200000000   \n",
      "612      613  Fast & Furious Presents: Hobbs & Shaw       PG-13  200000000   \n",
      "613      614                          The Lion King          PG  250000000   \n",
      "614      615                      Avengers: Endgame       PG-13  356000000   \n",
      "615        0                                    NaN         NaN   80000000   \n",
      "\n",
      "          Gross Release Date      Genre  Runtime  Rating  Rating Count Summary  \n",
      "611  1062000000   2019-06-11  Animation    100.0     6.9           NaN     NaN  \n",
      "612   759400000   2019-07-13   Thriller    136.0     6.9           NaN     NaN  \n",
      "613  1632000000   2019-07-09      Drama    118.0     6.9           NaN     NaN  \n",
      "614  2796000000   2019-04-22     Action    181.0     6.9           NaN     NaN  \n",
      "615   351040419          NaT                 NaN     6.9           NaN     NaN  \n"
     ]
    }
   ],
   "source": [
    "# Show data types to verify correct types\n",
    "print(df.dtypes)\n",
    "\n",
    "# Display the last few rows to verify final data structure\n",
    "print(df.tail(5))\n"
   ]
  }
 ],
 "metadata": {
  "kernelspec": {
   "display_name": "base",
   "language": "python",
   "name": "python3"
  },
  "language_info": {
   "codemirror_mode": {
    "name": "ipython",
    "version": 3
   },
   "file_extension": ".py",
   "mimetype": "text/x-python",
   "name": "python",
   "nbconvert_exporter": "python",
   "pygments_lexer": "ipython3",
   "version": "3.12.4"
  },
  "orig_nbformat": 4
 },
 "nbformat": 4,
 "nbformat_minor": 2
}
