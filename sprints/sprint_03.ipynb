{
 "cells": [
  {
   "cell_type": "code",
   "execution_count": 1,
   "metadata": {},
   "outputs": [
    {
     "name": "stdout",
     "output_type": "stream",
     "text": [
      "Input Array: [23, 34, 44, 66, 77]\n",
      "Mean: 48.8\n",
      "Median 44\n",
      "Variance: 399.76\n",
      "Standard Deviation: 19.993999099729898\n"
     ]
    }
   ],
   "source": [
    "input_array = input(\"Please input array here: \").split(\",\")\n",
    "\n",
    "array_00 = []\n",
    "for num in input_array:\n",
    "    array_00.append(int(num.strip()))\n",
    "\n",
    "print(\"Input Array:\", array_00)\n",
    "\n",
    "\n",
    "def find_std_dev():\n",
    "    if len(array_00) <= 1:\n",
    "        return None\n",
    "\n",
    "    mean = sum(array_00) / len(array_00)\n",
    "\n",
    "    total_of_squares = sum((num - mean) ** 2 for num in array_00)\n",
    "\n",
    "    variance = total_of_squares / len(array_00)\n",
    "\n",
    "    array_00.sort()\n",
    "\n",
    "    if len(array_00) % 2 == 0 :\n",
    "        mid_index = len(array_00) // 2\n",
    "        median = array_00[mid_index] + array_00[mid_index - 1] / 2\n",
    "\n",
    "    else: \n",
    "        mid_index = len(array_00) // 2  \n",
    "        median = array_00[mid_index]\n",
    "\n",
    "\n",
    "    \n",
    "    std_dev = variance ** 0.5\n",
    "\n",
    "    return mean, variance, median, std_dev\n",
    "\n",
    "\n",
    "\n",
    "results = find_std_dev()\n",
    "\n",
    "if results:\n",
    "    mean, variance, median, std_dev = results\n",
    "    print(f\"Mean: {mean}\")\n",
    "    print(f'Median {median}')\n",
    "    print(f\"Variance: {variance}\")\n",
    "    print(f\"Standard Deviation: {std_dev}\")\n",
    "else:\n",
    "    print(\"Not enough data to calculate statistics.\")\n",
    "\n",
    "\n",
    "#Sprint 02\n",
    "\n",
    "#Ex _02 = increase\n",
    "#Ex_03 = E\n",
    "#Ex_04 = 10\n",
    "#Ex_05 = skewed left\n",
    "#Ex_06 = 15,000\n",
    "#Ex_07 = 35,000\n",
    "#Ex_08 = D\n",
    "#Ex_09 = Standard Deviation: 10.44030650891055\n",
    "#Ex_10 = B\n",
    "#Ex_11 = D"
   ]
  }
 ],
 "metadata": {
  "kernelspec": {
   "display_name": "base",
   "language": "python",
   "name": "python3"
  },
  "language_info": {
   "codemirror_mode": {
    "name": "ipython",
    "version": 3
   },
   "file_extension": ".py",
   "mimetype": "text/x-python",
   "name": "python",
   "nbconvert_exporter": "python",
   "pygments_lexer": "ipython3",
   "version": "3.12.4"
  },
  "orig_nbformat": 4
 },
 "nbformat": 4,
 "nbformat_minor": 2
}
